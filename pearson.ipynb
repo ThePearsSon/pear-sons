{
  "nbformat": 4,
  "nbformat_minor": 0,
  "metadata": {
    "colab": {
      "name": "pearson.ipynb",
      "version": "0.3.2",
      "provenance": [],
      "collapsed_sections": [],
      "include_colab_link": true
    },
    "kernelspec": {
      "name": "python3",
      "display_name": "Python 3"
    }
  },
  "cells": [
    {
      "cell_type": "markdown",
      "metadata": {
        "id": "view-in-github",
        "colab_type": "text"
      },
      "source": [
        "<a href=\"https://colab.research.google.com/github/ThePearsSon/pear-sons/blob/master/pearson.ipynb\" target=\"_parent\"><img src=\"https://colab.research.google.com/assets/colab-badge.svg\" alt=\"Open In Colab\"/></a>"
      ]
    },
    {
      "metadata": {
        "id": "A_bf28BdkLI7",
        "colab_type": "code",
        "colab": {}
      },
      "cell_type": "code",
      "source": [
        "from tensorflow.python.keras.models import Sequential\n",
        "from tensorflow.python.keras.layers import Dense, Flatten, Conv2D, MaxPool2D, Dropout\n",
        "from tensorflow.python.keras.preprocessing.image import ImageDataGenerator\n",
        "import os\n",
        "import zipfile\n",
        "\n",
        "import matplotlib.pyplot as plt\n",
        "import matplotlib.image as mpimg"
      ],
      "execution_count": 0,
      "outputs": []
    },
    {
      "metadata": {
        "id": "6Z5ekLP7kQ-q",
        "colab_type": "code",
        "colab": {}
      },
      "cell_type": "code",
      "source": [
        "local_zip = 'images.zip'\n",
        "zip_ = zipfile.ZipFile(local_zip)\n",
        "zip_.extractall()\n",
        "zip_.close()"
      ],
      "execution_count": 0,
      "outputs": []
    },
    {
      "metadata": {
        "id": "cwbDK_RKkSY9",
        "colab_type": "code",
        "colab": {}
      },
      "cell_type": "code",
      "source": [
        "base_dir = 'images'\n",
        "\n",
        "train_dir = os.path.join(base_dir, 'train')\n",
        "train_pears_dir = os.path.join(train_dir, 'pears')\n",
        "train_sons_dir = os.path.join(train_dir, 'sons')\n",
        "\n",
        "validation_dir = os.path.join(base_dir, 'validation')\n",
        "validation_pears_dir = os.path.join(validation_dir, 'pears')\n",
        "validation_sons_dir = os.path.join(validation_dir, 'sons')"
      ],
      "execution_count": 0,
      "outputs": []
    },
    {
      "metadata": {
        "id": "bUjHyOILkTzN",
        "colab_type": "code",
        "colab": {}
      },
      "cell_type": "code",
      "source": [
        "def plot_images(item_dir, top=25):\n",
        "  all_item_dirs = os.listdir( item_dir )\n",
        "  item_files = [os.path.join(item_dir, file) for file in all_item_dirs][:top]\n",
        "  \n",
        "  plt.figure(figsize=(10, 10))\n",
        "  for idx, img_path in enumerate(item_files):\n",
        "    plt.subplot(5,5,idx+1)\n",
        "  \n",
        "    img = mpimg.imread(img_path)\n",
        "    plt.imshow(img)\n",
        "  \n",
        "  plt.tight_layout()"
      ],
      "execution_count": 0,
      "outputs": []
    },
    {
      "metadata": {
        "id": "U4LDY9UskVPr",
        "colab_type": "code",
        "colab": {}
      },
      "cell_type": "code",
      "source": [
        "plot_images(train_pears_dir)"
      ],
      "execution_count": 0,
      "outputs": []
    },
    {
      "metadata": {
        "id": "SUdHl_2ikXnW",
        "colab_type": "code",
        "colab": {}
      },
      "cell_type": "code",
      "source": [
        "plot_images(train_sons_dir)"
      ],
      "execution_count": 0,
      "outputs": []
    },
    {
      "metadata": {
        "id": "6tDzUvr2kZIM",
        "colab_type": "code",
        "colab": {}
      },
      "cell_type": "code",
      "source": [
        "input_shape = (150,150, 3)\n",
        "\n",
        "model = Sequential([\n",
        "    Conv2D(32, (3, 3), input_shape=input_shape),\n",
        "    MaxPool2D((2, 2)),\n",
        "    \n",
        "    Conv2D(64, (3, 3), activation='relu'),\n",
        "    MaxPool2D((2, 2)),\n",
        "    \n",
        "    Conv2D(32, (3, 3), activation='relu'),\n",
        "    MaxPool2D((2, 2)),\n",
        "    \n",
        "    Flatten(),\n",
        "    \n",
        "    Dense(32, activation='sigmoid'),\n",
        "    Dropout(0.4),\n",
        "    Dense(32, activation='sigmoid'),\n",
        "    Dropout(0.2),\n",
        "    Dense(1, activation='sigmoid'),\n",
        "])\n",
        "\n",
        "model.compile(loss='binary_crossentropy', optimizer='adam', metrics=['accuracy'])\n",
        "model.summary()"
      ],
      "execution_count": 0,
      "outputs": []
    },
    {
      "metadata": {
        "id": "mGf4skKlkaZS",
        "colab_type": "code",
        "colab": {}
      },
      "cell_type": "code",
      "source": [
        "train_datagen = ImageDataGenerator(rescale=1./255)\n",
        "test_datagen = ImageDataGenerator(rescale=1./255)"
      ],
      "execution_count": 0,
      "outputs": []
    },
    {
      "metadata": {
        "id": "KbG9TCO5kcYA",
        "colab_type": "code",
        "colab": {}
      },
      "cell_type": "code",
      "source": [
        "train_generator = train_datagen.flow_from_directory(\n",
        "      train_dir,\n",
        "      target_size=(150,150),\n",
        "      batch_size=20,\n",
        "      class_mode='binary')\n",
        "\n",
        "validation_generator = test_datagen.flow_from_directory(\n",
        "      validation_dir,\n",
        "      target_size=(150,150),\n",
        "      batch_size=20,\n",
        "      class_mode='binary')\n"
      ],
      "execution_count": 0,
      "outputs": []
    },
    {
      "metadata": {
        "id": "Xt75429AkdkK",
        "colab_type": "code",
        "colab": {}
      },
      "cell_type": "code",
      "source": [
        "history = model.fit_generator(\n",
        "      train_generator,\n",
        "      steps_per_epoch=100,\n",
        "      epochs=10,\n",
        "      validation_data=validation_generator,\n",
        "      validation_steps=50,\n",
        "      verbose=2)"
      ],
      "execution_count": 0,
      "outputs": []
    },
    {
      "metadata": {
        "id": "UzvGttAHkelo",
        "colab_type": "code",
        "colab": {}
      },
      "cell_type": "code",
      "source": [
        "history"
      ],
      "execution_count": 0,
      "outputs": []
    }
  ]
}